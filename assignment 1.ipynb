{
 "cells": [
  {
   "cell_type": "markdown",
   "id": "b7cfadbd-b7d7-4cfa-99b4-1e30bbf2f55f",
   "metadata": {},
   "source": [
    "ASSIGNMENT 1\n"
   ]
  },
  {
   "cell_type": "markdown",
   "id": "856b48b0-3937-48e6-9d0c-8a43d4298164",
   "metadata": {},
   "source": [
    "* , - , + , / are mathematical operators\n",
    "'hello' , -87.8, 6 are the values "
   ]
  },
  {
   "cell_type": "markdown",
   "id": "8cda5290-530d-4485-9b95-738749bfd3b6",
   "metadata": {},
   "source": [
    "Variables are generally a container in python used to store data. That means we use variable as a symbol to store data in a code. \n",
    "While in the other hand, the string is a datatype in python.Strings are used as a data in python. \n",
    "We can use strings to fill up a variable."
   ]
  },
  {
   "cell_type": "markdown",
   "id": "2edc63e8-e83a-497d-8ebc-7aed95b471ea",
   "metadata": {},
   "source": [
    "3.Three different data types in python are Numeric , List, Tuple\n",
    "(i) Numeric: different types of numerical data comes under this category like, inegers (2,3), floating numbers(2.3, 3.4) and complex numbers(3j, 2+9j)\n",
    "(ii) List : list is a data type in python to store multiple items in a single variable. It is ordere and mutable\n",
    "(iii)Tuple : tuple is also a data type to store multiple items in a single varible It is also ordered but unmutable\n"
   ]
  },
  {
   "cell_type": "markdown",
   "id": "f9945470-d8ba-45e9-9ffa-f97fffbcff89",
   "metadata": {},
   "source": [
    "4. expression : it is a combination of operators and operands like values,variables \n",
    "as example (a+b+6) is an expression in python.\n",
    " The expression produces some values or result after being interpreted bythe python interpteter"
   ]
  },
  {
   "cell_type": "markdown",
   "id": "e12ce701-6ca8-431a-86eb-21c64a755198",
   "metadata": {},
   "source": [
    "5. in this assignment statement like spam=10, the difference between statement and expression is that statement is used to creating variables that execute in python.but expression produces some values after being interpreted. these are some examples in the following ."
   ]
  },
  {
   "cell_type": "code",
   "execution_count": 4,
   "id": "6022d5db-95d5-4b10-90e0-c13aad792649",
   "metadata": {},
   "outputs": [
    {
     "name": "stdout",
     "output_type": "stream",
     "text": [
      "5\n",
      "15\n"
     ]
    }
   ],
   "source": [
    "a=5 #statements\n",
    "b= a+10 #expression\n",
    "print(a)\n",
    "print(b)"
   ]
  },
  {
   "cell_type": "code",
   "execution_count": 6,
   "id": "7e75a16e-d12d-497a-b3ba-253def38cda0",
   "metadata": {},
   "outputs": [
    {
     "data": {
      "text/plain": [
       "23"
      ]
     },
     "execution_count": 6,
     "metadata": {},
     "output_type": "execute_result"
    }
   ],
   "source": [
    "#6\n",
    "bacon=22\n",
    "bacon+1    #after running the code bacon contains 22 coz it just a variable"
   ]
  },
  {
   "cell_type": "code",
   "execution_count": 12,
   "id": "0adc971d-a3c7-4355-ba0e-fd46ef1d5f5e",
   "metadata": {},
   "outputs": [
    {
     "data": {
      "text/plain": [
       "'spamspamspam'"
      ]
     },
     "execution_count": 12,
     "metadata": {},
     "output_type": "execute_result"
    }
   ],
   "source": [
    "#7\n",
    "'spam'+'spamspam'\n",
    "'spam'*3            #the values of the two terms are same as 'spamspamspam'"
   ]
  },
  {
   "cell_type": "markdown",
   "id": "9df3a185-7136-41de-81a3-5d75ee8e4bf0",
   "metadata": {},
   "source": [
    "8. eggs is a valid variable but 100 is not because no variable name can start with numeric values in python."
   ]
  },
  {
   "cell_type": "markdown",
   "id": "335339e3-216a-4f96-829e-7ef32ca65195",
   "metadata": {},
   "source": [
    "9. the functions are ,for integer: int(), for floating point numbers : float(), and for string: str()"
   ]
  },
  {
   "cell_type": "code",
   "execution_count": 13,
   "id": "c6276245-c97b-4acf-9319-2326498926a7",
   "metadata": {},
   "outputs": [
    {
     "ename": "TypeError",
     "evalue": "can only concatenate str (not \"int\") to str",
     "output_type": "error",
     "traceback": [
      "\u001b[0;31m---------------------------------------------------------------------------\u001b[0m",
      "\u001b[0;31mTypeError\u001b[0m                                 Traceback (most recent call last)",
      "Cell \u001b[0;32mIn [13], line 1\u001b[0m\n\u001b[0;32m----> 1\u001b[0m \u001b[38;5;124;43m'\u001b[39;49m\u001b[38;5;124;43mI have eaten\u001b[39;49m\u001b[38;5;124;43m'\u001b[39;49m\u001b[43m \u001b[49m\u001b[38;5;241;43m+\u001b[39;49m\u001b[43m \u001b[49m\u001b[38;5;241;43m99\u001b[39;49m \u001b[38;5;241m+\u001b[39m \u001b[38;5;124m'\u001b[39m\u001b[38;5;124m burritos\u001b[39m\u001b[38;5;124m'\u001b[39m\n",
      "\u001b[0;31mTypeError\u001b[0m: can only concatenate str (not \"int\") to str"
     ]
    }
   ],
   "source": [
    "#10\n",
    "'I have eaten' + 99 + ' burritos'  #here the expression causes error because here 99 is treated as integer not a string "
   ]
  },
  {
   "cell_type": "code",
   "execution_count": 14,
   "id": "b9be8b24-695a-439f-bf71-d1e7dc727b80",
   "metadata": {},
   "outputs": [
    {
     "data": {
      "text/plain": [
       "'I have eaten 99  burritos'"
      ]
     },
     "execution_count": 14,
     "metadata": {},
     "output_type": "execute_result"
    }
   ],
   "source": [
    "'I have eaten' +' 99 '+ ' burritos'     # here 99 is treated as a string and so the expressiom does not show any error "
   ]
  },
  {
   "cell_type": "code",
   "execution_count": null,
   "id": "fe4f7283-2702-4028-bee9-92183af3c4c5",
   "metadata": {},
   "outputs": [],
   "source": []
  }
 ],
 "metadata": {
  "kernelspec": {
   "display_name": "Python 3 (ipykernel)",
   "language": "python",
   "name": "python3"
  },
  "language_info": {
   "codemirror_mode": {
    "name": "ipython",
    "version": 3
   },
   "file_extension": ".py",
   "mimetype": "text/x-python",
   "name": "python",
   "nbconvert_exporter": "python",
   "pygments_lexer": "ipython3",
   "version": "3.10.6"
  }
 },
 "nbformat": 4,
 "nbformat_minor": 5
}
